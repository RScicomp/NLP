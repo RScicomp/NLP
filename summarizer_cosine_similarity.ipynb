{
 "cells": [
  {
   "cell_type": "code",
   "execution_count": 5,
   "metadata": {},
   "outputs": [],
   "source": [
    "from nltk import sent_tokenize, word_tokenize\n",
    "from nltk.corpus import stopwords\n",
    "from string import punctuation\n",
    "import numpy as np\n",
    "import pandas as pd\n",
    "import nltk\n",
    "import re\n",
    "import os\n",
    "import codecs\n",
    "from sklearn import feature_extraction\n",
    "import matplotlib.pyplot as plt\n",
    "%matplotlib inline\n",
    "from sklearn.metrics import pairwise_distances_argmin_min\n",
    "import nltk\n",
    "#nltk.download('punkt')\n",
    "from sklearn.metrics.pairwise import cosine_similarity\n",
    "from sklearn.feature_extraction.text import TfidfVectorizer"
   ]
  },
  {
   "cell_type": "code",
   "execution_count": 6,
   "metadata": {},
   "outputs": [],
   "source": [
    "#set columns to display all\n",
    "pd.options.display.max_columns = 1000"
   ]
  },
  {
   "cell_type": "markdown",
   "metadata": {},
   "source": [
    "<h3>Finding Cosine Similarity Between All Sentences"
   ]
  },
  {
   "cell_type": "code",
   "execution_count": 16,
   "metadata": {},
   "outputs": [],
   "source": [
    "sample = \"\"\"Drivers don’t always realize that they may be overpaying for car insurance. If you haven't compared quotes\n",
    "recently, even if you have a low rate, you could still be paying too much. Fortunately, millions of smart drivers have\n",
    "used EverQuote™'s free service to save hundreds on their insurance bills. It’s really no wonder that with so many \n",
    "drivers saving money, EverQuote™ is gaining momentum. EverQuote™ is an efficient source that tries to give consumers\n",
    "the lowest rates with tools you can trust. Just imagine what you could do with the money you save!\"\"\""
   ]
  },
  {
   "cell_type": "code",
   "execution_count": 2,
   "metadata": {},
   "outputs": [],
   "source": [
    "sample_2 = \"\"\"President Donald Trump and his Polish counterpart Andrzej Duda were to announce higher US troop levels in Poland \n",
    "on Wednesday, with the main question being whether Washington will defy Russian objections to establish an American \n",
    "base in the NATO country. A senior Trump administration official said the White House meeting would see the two \n",
    "leaders make a significant announcement.\" Whether Trump will risk irritating Moscow with a base or take the simpler \n",
    "option of adding more troops to the current non-permanent force was unclear. Located deep in what used to be \n",
    "Soviet-dominated eastern Europe, Poland is a member of NATO but has long wanted deeper US commitment. Spooked by \n",
    "resurgent Russia's seizing control of territory in Georgia and Ukraine over the last decade, Duda has tried to charm \n",
    "the US president, even touting the idea of Poland building a \"Fort Trump\" to house thousands of US soldiers.\n",
    "Krzysztof Szczerski, an adviser to the Polish president, said the general concept of a \"Fort Trump\" was on the \n",
    "agenda Wednesday and that the US presence \"will increase both in quality as well as quantity.\" \"\"\""
   ]
  },
  {
   "cell_type": "code",
   "execution_count": 7,
   "metadata": {},
   "outputs": [],
   "source": [
    "sample_3 = \"\"\"  Bambu is a leading global provider of robo-advisory technology for businesses of every size and industry, from finance to commercial or even new disruptors, transforming the digital wealth space. We enable businesses to make saving and investing more straightforward and intelligent for their clients. The smart advisory solution is powered by our proprietary algorithms and machine learning tools.    Founded in 2016 by industry experts Ned Phillips, Luke Janssen and Aki Ranin, Bambu is situated in Singapore with subsidiaries in Hong Kong, Malaysia and the United Kingdom, as well as representatives in Africa, Europe and America.\n",
    "We are Insurify - one of the fastest growing MIT FinTech start-ups that is disrupting the $600B Insurance Industry. Led by veterans from Kayak and TripAdvisor, we are using leading technologies to build an award-winning platform. Our smart virtual insurance agent and robo advisor gives consumers personalized insurance recommendations and compares dozens of quotes at once to save them time and money. Insurify has been awarded: -One of 17 Startups to Watch in 2017 (Bostinno) -The 2016 Insurance Disruptor of the Year (ACORD - The Insurance Standards Organization) -The Best Insurance Website of 2016 (WebAwards)\n",
    "8 Securities is Asia's first robo-advisor and free stock trading service. Mobile, simple and fast.  They're blowing the world of investing wide open...and everyone is invited. They believe everyone deserves the same access to world-class investing as the big guys. Whether you are new to investing or you are an experienced trader, they have the solution for you. Their mission is to use technology to make growing your money simpler, smarter and more affordable. They are licensed in Hong Kong under the Securities & Futures Commission and in Japan under the Financial Services Agency. Their products and services are available in English, Chinese and Japanese.\n",
    "Finizens is a wealth management company specializing in passive investments, offering a 100% digital alternative to traditional financial institutions consisting in a robo advisor platform which enable clients to invest in a more profitable and efficient fashion through globally diversified, low-cost index fund portfolios, using the best instituional share class funds from Vanguard and Amundi.  Since launch Finizens has consolidated as an international reference in the wealth management realm, boasting to be the automated investment management company with the most comprehensive product offering in Europe, as well as the leading robo-advisor in Spain. Finizens is also pioneer in terms of sealing strategic distribution agreements with renowned financial entities. In 2017, carrying out the first alliance in Spain between a bank and an investment FinTech firm, with EVO Banco distributing directly to its client base Finizens services. Secondly, Finizens developed the first commercial partnership in Spain between a robo-advisor  and an insurance company, Caser Seguros. The team of the company is formed by renowned professionals with extensive experience both in the domain of finance and investment management as well as in the digital economy, with a history of success and international reach.\n",
    "Stockspot is Australia‚Äôs first online, automated investment adviser and fund manager (robo-advisor). Our aim is to make professional wealth management accessible to more Australians. We want to do away with the high fees, confusing jargon, endless paperwork and lack of transparency that gives Australia‚Äôs wealth management industry a bad reputation. We recognise that:  - The high fees charged by traditional investment options are completely unnecessary and eating away at investment returns.  - Many Australians are unable to access a professionally managed portfolio due to the significant account minimums.  - Those who are trying to do it themselves are usually missing out on the returns and diversification benefits of owning other asset classes like bonds and international shares. We‚Äôre helping Australians manage their money smarter by using our simple, transparent online investment service with low fees.\n",
    "Pritle (now Binck Forward) is an online wealth manager that allows its users to easily set and track goals, such as their retirement, a child‚Äôs education, or a trip around the world, within a specified timeframe. It enables clients to define an individualized client profile on the basis of which a customized portfolio of funds is created from asset managers, such as BlackRock, Vanguard, and StateStreet. The Pritle initiative was initiated in February 2013 by banker Thomas Bunnik. In 2014 it established its first holding company based in Amsterdam, The Netherlands. Pritle was acquired by BinckBank NV in April 2017.\n",
    " MarketsFlow describes itself as a sophisticated, award-winning and innovative machine learning and AI-based intelligent robo advisor and digital wealth management platform.\n",
    "InbestMe is a highly personalized and independent automated portfolio manager also known as robo advisor. their mission is to help people invest better by applying cutting edge technology to the investment process. You can register in  few minutes through their website. During the process they will recommend the best plan for you.  You can customize your account and choose between different portfolio plans, risk profiles and multiple financial objectives. they have designed highly diversified ETF portfolios, to maximize your real profitability, the one left in your pocket. Your savings deserve more! they will create your totally personalized account.\n",
    "Finanbest is an automated theft advisor that provides financial advice and online portfolio management through algorithms and with minimal human intervention. It is a web service that facilitates the creation of a personalized investment portfolio adapted to the context of each person through a simple test. The company makes the investment model of large assets available to all, it combines the use of advanced automated investment platform with the advice of financial experts. Finanbest was founded on 2017 and is headquartered in Madrid, Spain.\n",
    "An Israeli award-winning Fintech startup that developed a financial marketplace and Robo-Advisor that revolutionizes the outdated retirement, insurance, and loans distribution channels by providing a custom user experience in order to democratize the way people manage their long-term financing. A marketplace & financial Robo-Advisor based on an advanced data-driven platform which uses a unique combination of sharp algorithm, data analytics, and machine learning to provide objective & personal financial services in a secured & transparent way. Robin Hood Pro created Robin. Robin is a mobile app that makes long-term financial planning and management easy. We offer services in the form of a Robo-advisor or human advisors according to the needs of each individual user, for insurance, loans, and retirement. We automatically aggregate all your information into one place and use our algorithms to find the best plan for you. After you‚Äôve selected your plan, Robin helps you to stay on track each step of the way.\n",
    "AVA is an investment Robo-Advisor with Artificial Intelligence technology to help investors increase their investment return with the ease of use. Our mission is to build innovation company to make everyone become successful investor despite income inequality.  Trustworthy, Transparency and Sustainable Development are core beliefs of our research to improve our goal-based algorithm. AVA INTEL combines the use of evolutionary intelligence, machine learning, and large-scale distributed computing and data analysis to implement and invest across diverse range of assets, include equities, derivatives, ETFs, fixed income, energies, precious metals and commodities.  AVA PRINCIPLE based on our intricate data and complex predictive models. We believe that the world has changed phenomenally and every single change creates impact toward economics, investment and the way we look at it. Therefore we integrate Fundamental Analysis, Technical Analysis, Quantitative Analysis, Macroeconomics, Fund Flow, Policy and Triggering Event altogether to analyse and execute in a millisecond to protect your money and maximize return.  AVA aims to be the most trustworthy and friendliest AI and continuously developing and transforming investment to make world the better place through technology.\n",
    "Richie is a robo-advisor that targets specifically millennials. - @user creates a #GroupGoal and invites his friends  - they invest together towards the #GroupGoal without sharing money - each #GroupGoal member gets his own advice to reach the goal  - investments are done automatically in portfolios based on risk level  - #GroupGoals can be very specific, with a specific target amount and a target date such as #ColoradoTrip2018 or very broad interest leaning like #ModernTechnology.\n",
    "Clipper Advisor is the first Robo-Advisor in China, bringing the Robo-Advisor innovation to the affluent Chinese investors everywhere.\n",
    "Brains is a lifestyle-centered robo-advisor targeted toward the XY generations.\n",
    "As leading German robo advisor vaamo is dedicated to providing private individuals with an easy and intuitive access to capital markets in order to enable everyone to invest their money profitably and at minimum cost. In order to make investing accessible to everyone we focus on personal financial goals such as an early retirement or the education of your children, provide customers with relevant guidance and advice at their finger tips and ensure an excellent customer service experience. At the same time we provide direct access to an investment concept that follows Nobel prize winning scientific research and enables customers to invest in broadly diversified investment portfolios based on low-cost passive investment strategies ‚Äì and all that without minimum term or investment and at one low all-in fee.\n",
    "Smartly is a Singapore based financial technology company building a new-generation robo-advisor platform. Investing has always been viewed as complex and risky by many. There is limited transparency in the majority of investment products, coupled with high management fees charged by asset managers. Moreover, financial literacy is poor among a majority of the population. These leave the average investor with little investment opportunities that meet their investment appetite. We are an automated wealth management platform that requires minimum financial knowledge to invest globally, with relatively small amounts, while minimizing fees and having full transparency. Together with our investment platform, we are developing an educational platform to educate our users on the basics of investing through a series of animated videos. This would complement our investment platform by simplifying, as well as giving clarity and confidence on our investment approach. Visit us at www.smartly.sg\n",
    "In a world of hidden charges, false promises and confusing sales talk, Clearfunds' simple belief is that transparency is profitable for our customers and for us. We believe investing doesn't have to be so expensive. We believe in transparent pricing ‚Äì you should know how much you pay your advisor. We believe everyone, regardless of wealth, should have access to unbiased advice. We believe you should be able to hold those managing your money accountable. At Clearfunds, we use powerful science and data analysis to turn these basic principles into a profitable reality for both, our customers and us.\n",
    "True Wealth is the Swiss pioneer for digital wealth management. Within its B2C franchise, the company services a rapidly growing base of Swiss clients as a robo advisor. As part of its B2B offering, the company services banks and insurance companies with its award winning and patented SaaS-solution for white label digital wealth management. The company has two SaaS installations live with two banks in Switzerland, more projects are ongoing including with international tier 1 banks.\n",
    "\n",
    "\n",
    "Fount Inc. Is an asset management Robo-Advisor startup founded in 2015. Their investing algorithm based on BigData Technology helps you plan for every event of your life. fount team believes in passive investing, which takes the right level of risk for your goal's time horizon, and allows their advanced computer algorithms do all the work.\n",
    "Hublio is a FREE insurance robo-advisor. Policyholders store their policies and assets in one convenient, secure platform.  They always have up-to-date information and know how well insured they are.  Brokers and insurers regain time to focus on their advice, know their customers, and be compliant with a.o. GDPR, IDD and MiFID.\n",
    "Pat Garrett and Brian Watson founded Six Park in 2014 while working together at their investment management firm in Melbourne, Australia. Pat and Brian met in the mid-1990s while Brian was managing the global private equity and venture capital investment unit of JP Morgan (New York), and have been working together in Melbourne since 2001. They decided they could no longer ignore a major problem in Australia's investment management industry ‚Äì namely, that it was difficult, confusing, expensive and frustrating for most Australian investors to get professional, low-cost investment advice. Worse, there was ample evidence that investors' best interests had taken a back seat to the interests of larger financial institutions. Pat and Brian met in the mid 1990's while Brian was managing the global private equity and venture capital investment unit of JP Morgan (New York), and have been working together in Melbourne, Australia since 2001. In June 2014, Pat and Brian started building a better solution for Australian investors ‚Äì a trustworthy, professionally managed, low-cost, and highly accessible investment guidance service that is not aligned with a financial institution. Six Park is now a team of seven experts, including a world-class Advisory Board, with 100+ years of experience in investment management and financial services, at organisations of the quality of JP Morgan and the Australian Government's Future Fund. The service combines innovative technology and sophisticated investment theory, and is totally transparent about its offering and fees, with the required legal authorisation to provide these services. Six Park launched in April 2016 and has grown significantly from its initial early-adopter client base. Each client has a portfolio of high-quality ASX-listed Exchange Traded Funds (ETFs) developed to match their personal risk profile and investment horizon. The business has raised several rounds of private capital to build and launch its service, and has a strong pipeline of future product enhancements. They believe that we've built the best investment service available to Australian investors, especially when considering the experience of the team, the low cost of the service and the overall user experience for their clients.\n",
    "RoboAdvisors.com allows visitors to choose the best robo advisor according to their unique requirements. With ambitions to establish RoboAdvisors.com as the best robo advisor comparison site worldwide, the service will be available on a new, easy to use platform that will set the industry standard.\n",
    "Spotalpha helps self-directed investors make better investm,ent decisions through the use of ML/AI. Spotalpha's algorithms help users identify : (a) which instruments to invest in (b) how much to allocate to each instrument, and (c) when to re-balance their portfolios We achieve all of the above using simple UI/UX. Our entire stack is available to brokerages and banks to launch a white-labelled robo-advisor.\n",
    "\n",
    "Incorporated in Hong Kong, Seasonalife is a startup founded by a team of actuaries focused on the Asia insurance market. Their mission is to become the \"private actuary\" to advisors and end-customers, and to make insurance smart and friendly again.\n",
    "\n",
    "Automata provides simple and secure trading strategies for cryptocurrencies with a focus on risk management and capital protection.\n",
    "Tobi is a digital investment service for parents that makes it easy to grow their children's long-term savings. We receive recurring deposits, cash gifts and advance inheritance from parents, grandparents and friends of the family and invest them based on the parents' risk profile. Some would call us a niche robo-advisor. We are a team of experienced entrepreneurs with a purpose of enabling children to get the best possible start in life. Initially we focus on the child's wealth but our purpose holds so much more potential across different verticals including insurance, health and services which bridge family generations.\n",
    "eFin is a consulting company. it offers an algorithm driven equity research platform designed to help people make intelligent investment decisions. The company offers services such as proprietary stock scoring system, results driven robo-advisor, second level hedge fund ai engine, and on demand ticker based research. eFin was founded by Charles Moscoe, Derek Capo, and Kristaps Ronka in 2015.\n",
    "Moomoc ia a stock robo advisor based in Vienna, Austria.\n",
    "Fintech News Switzerland covers stories about the Fintech Ecosystem ‚Äì i.e. Mobile Payment, Personal Finance, Bitcoin, Blockchain, Robo Advisor and Lending - and Startups in Switzerland, UK and Europe. Fintechnews.ch also provides a bi-weekly newsletter with the most important information about the Fintech industry in UK & Europe. Specialties\n",
    "MarketRiders, Inc. is an easy-to use online service that allows anyone to join the Exchange Traded Fund (ETF) revolution using strategies previously only available to elite investors and large endowments like Yale and Harvard.  For $14.95 per month and 30 minutes each quarter, anyone can build and manage their own ETF portfolio and grow their money like the world's smartest investors. Traditional wisdom suggests that being successful in the stock market is about picking the right stocks or hiring the right financial advisor to manage one's money.  Study after study proves, though, that it's not possible to \"beat the market\" with any consistency, and that the most successful investors ride the market by allocating their assets across broad sections of the market and re-balancing when their asset allocations get out of whack.  While mutual funds purport to do this sort of thing, they typically charge investors 2% or more off the top, whether they're making money or not, and have tax implications that are often unfriendly to investors.  Over time, these taxes and fees can erode 30-50% of an average portfolio! MarketRiders allows investors to take control of their own money in a three step process as follows:  1. User inputs data points such as age and risk tolerance, and based on those factors, MarketRiders suggests a portfolio based on ETFs (low-fee index funds typically associated with buckets of stocks or commodities).  User can customize the portfolio or copy a successful portfolio from another MarketRiders user. 2. MarketRiders sends user a lists of trades to make at his or her online broker. Once user confirms purchases and prices, MarketRiders begins monitoring user's account for necessary changes based on rules and alerts that user can configure.  3. MarketRiders watches each user portfolio and alerts user when he or she needs to make changes.  If for example, a user wants to maintain 10% in coal, and coal makes a run such that 15% of the user's portfolio is now in coal, MarketRiders suggests the necessary trades to bring the portfolio back to the desired asset allocation.\n",
    "\n",
    "Stock Shop is a leading fintech company that provides a toolbox of platforms that banks and financial institutions can rapidly white-label in order to provide financial education and meaningful services to new and existing clients. Stock Shop was founded at the end of 2013 by Annabel Dallamore who while working at the Johannesburg Stock Exchange realised the pressing need for better, online, meaningful financial education. The team quickly realised there was a greater need from the industry at large for platforms that financial institutions could utilise to make their businesses more efficient and help their clients find the products and services that suit their specific needs. Stock Shop soon became the go-to for financial institutions looking to rapidly innovate and have industry leading digital platforms. All of the systems Stock Shop provides leverage the power of technology to make banking and financial services easy, quick, paperless and engaging for clients. Some of the platforms in the Stock Shop toolbox include: Online Academy - which provides trackable, gamified online learning Digital On-boarding & Digital KYC/FICA (for South Africa) Robo-advisor- that utilises the power of emotional and intelligent algorithms Personal Financial Management Tools- to give clients one view of their financial lives Content Aggregators- which allows a financial institutions to tailor the content their clients receive based on the products/services they utilise Our platforms create meaning for savers and investors and their financial lives. The team are also pushing ahead in the emotional and predictive algorithm space for applications of artificial intelligence in financial services.\n",
    "\n",
    "1wealthstreet is an intuitive Robo Advisor that delivers custom financial portfolios to its growing community of users.\n",
    "Arcus Capital has created a robo advisor with advanced investment algorithms that trawl the market and analyse them using big data. It is a sophisticated wealth management for everyone. We help you meet your financial goals by using advanced technology while saving.\n",
    "\n",
    "Tangram Solutions LLC is a fin-tech company. In March 2017 we launched Tangram WealthBook, a wealth management platform and hybrid-robo advisor for Independent Representatives. WealthBook provides reps with the ability to manage their clients' variable annuity portfolios. It aggregates fund performance data from all major variable annuity providers, makes it easy to review performance, includes recommendation engines to guide portfolio adjustments, provides a client app to speed approval, and archives all activities. Net result:  Reps can use WealthBook to manage new annuity portfolios; they can also generate fee income from existing portfolios on their books that are currently unmanaged. In addition, WealthBook provides reps with tools and analytics to select and manage portfolios containing other assets such as ETFs, mutual funds and equities. Users can compare different ETFs and mutual funds, analyze equities, stay current with a company's analyst ratings, earnings projections, latest filings ‚Äî earnings, quarterly p&l, balance sheet and cash flow ‚Äî and track key ratios vs. selected competitors at a glance.\n",
    "Investplex.com is a robo-advisor registered with the U.S. Securities and Exchange Commission that uses technology and modern portfolio theory to help individuals around the world build and manage a low-cost ETF investment portfolio based on their own willingness and ability to take risk. InvestPlex‚Äôs online advisory services consist of advice on allocating your investments to meet your specific investment goals, tracking the performance of your portfolio, monitoring your portfolio, and alerting you when it needs to be rebalanced. It also gives you advice on how to rebalance the portfolio. At InvestPlex, we don‚Äôt use mutual funds when building investment portfolios because of their expensive sales and management fees; it is not a trading platform because we don‚Äôt believe in trading in and out of the market to create and maintain wealth; it is based on a subscription fee model ($8.99/Month) in order to avoid conflict of interest and it doesn‚Äôt offer custody services so any client can use the service and execute the portfolio suggestions with any bank or broker dealer that currently has custody of the client‚Äôs funds.\n",
    "Propmatch.ch provided services find your new home with their platform quickly and easily.The first Robo Advisor for the real estate industry. propmatch is the simple solution for analyzing, valuing and brokering locations, investment properties and real estate in Switzerland.\n",
    "\"Pre-Seed investment opportunity executive summary Wealthman Inc., a UK-based fintech company in the wealth management marketplace industry is pleased to present an equity stake acquisition opportunity on our Pre-Seed round. Market opportunity: Customer acquisition market volume in wealth management industry is expected in amount of  $12.8 bln. in 2018, and $19.4 bln. in 2019. Cost of robo-advisor customer acquisition (‚ÄúCAC‚Äù) is in the range of $600 to $1000 in US and $400 in UK. Changing the model of customer acquisition from advertising and branding service to SEO & branding marketplace can reduce the CAC 70% and more. Company solution: The web-based marketplace of wealth management services that connects investors with robo- or human advisers. The solution is designed to acquire investors at a reduced cost via SEO promotion, smart targeting and to engage investors in a repeated purchases.  Business model:  Company‚Äôs distribution channel is designed for small&mid-sized robo-advisors and wealth managers serving English-speaking mass-affluent customers. Company acquires customers at a reduced cost and resell them through marketplace at a market-average fixed price or at constant payment of 20% of wealth manager‚Äôs revenue annually. Sales strategy: Go-to-market strategy encompasses the following activity:  -\tQuite period, 3Q 2018: Introduction $10k promotion budget for the first 30  human and digital advisors by direct offering or tightly targeted online promotion;  -\tFirst sales, 4Q 2018: Investors attraction via CPA, SEO traffic, Email marketing and targeted Ad campaign. Product-market-fit activity. -\tExpansion 2Q 2019: Focus on branding, SEO and marketplace gamification to reduce cost of traffic and grow repeat sales. Sales target for 2019 is $1.1 mln. Competition: Potential competitors are AMX and Phitoken, although their solutions are still not production ready. Current competitors are traditional Big Data targeting services. Projections: Sales targets are $1.1 mln.in 2019, $7 mln.in 2020, $24 mln. in 2021.  Key assumption is robo-advisor penetration will grow on 0.37% in 2019, 0.47% in 2020, 0.5% in 2021. Investment opportunity The project represents an outstanding opportunity to realize significant capital growth by 2019. Equity injection of $200.000 will provide a 10% participation rate in the expected Company valuation of $10mln at 2019. The shareholders are looking for co-investors that will participate in Pre-seed funding the marketing costs and software development.\"\n",
    "Project Maia analyzes the entire spectrum of digital marketing options and creates data-driven marketing strategy that tells users what to do, when to do it and which platforms to use. We are a SaaS platform with pricing ranging from $35-$99, effectively targeting all the boutique agencies, freelance marketers, and small business marketers and owners that are desperate for technology that makes their marketing more effective.\n",
    "They are a 100% automated tactical asset manager, catering to individual investors like you. Their strategies are designed to grow your money with equity exposure and downside risk protection, while still offering the liquidity, transparency, and diversification that come from investing in broad index ETFs. They approach investing from a unique perspective. Their team‚Äôs background combines years of experience in institutional and alternative investing with expertise in predictive analytics, systems engineering, risk management, and regulatory compliance.\n",
    "Shanghai Shudan Information Technology LLC is a FinTech company, aiming to create an AI-based investment service eco-system. Our goal is to provide robo-advisor solutions to institutional clients in areas of: financial analysis, investment advisory, and asset management.\"\"\""
   ]
  },
  {
   "cell_type": "markdown",
   "metadata": {},
   "source": [
    "This function will determine which sentences to extract from the article's text by finding the cosine similarity between all tf-idf transformed sentences. The extracted sentences will have the highest average cosine similarity to the remaining sentences. By doing this, the summary should include sentences that show the highest importance to the article."
   ]
  },
  {
   "cell_type": "code",
   "execution_count": 8,
   "metadata": {},
   "outputs": [],
   "source": [
    "def find_similarities(text):\n",
    "    #tokenize sentences\n",
    "    sentences = text\n",
    "    #set stop words\n",
    "    stops = list(set(stopwords.words('english'))) + list(punctuation)\n",
    "    \n",
    "    #vectorize sentences and remove stop words\n",
    "    vectorizer = TfidfVectorizer(stop_words = stops)\n",
    "    #transform using TFIDF vectorizer\n",
    "    trsfm=vectorizer.fit_transform(sentences)\n",
    "    \n",
    "    #creat df for input article\n",
    "    text_df = pd.DataFrame(trsfm.toarray(),columns=vectorizer.get_feature_names(),index=sentences)\n",
    "    \n",
    "    #declare how many sentences to use in summary\n",
    "    num_sentences = text_df.shape[0]\n",
    "    num_summary_sentences = int(np.ceil(num_sentences**.5))\n",
    "        \n",
    "    #find cosine similarity for all sentence pairs\n",
    "    similarities = cosine_similarity(trsfm, trsfm)\n",
    "    \n",
    "    #create list to hold avg cosine similarities for each sentence\n",
    "    avgs = []\n",
    "    for i in similarities:\n",
    "        avgs.append(i.mean())\n",
    "     \n",
    "    #find index values of the sentences to be used for summary\n",
    "    top_idx = np.argsort(avgs)[-num_summary_sentences:]\n",
    "    \n",
    "    return top_idx"
   ]
  },
  {
   "cell_type": "markdown",
   "metadata": {},
   "source": [
    "Use sample text to determine the sentences to be extracted for the summary"
   ]
  },
  {
   "cell_type": "code",
   "execution_count": 9,
   "metadata": {},
   "outputs": [
    {
     "data": {
      "text/plain": [
       "array([120,  87,  14,  51,  38, 141,  28, 121,  36, 161, 134,  13,  53])"
      ]
     },
     "execution_count": 9,
     "metadata": {},
     "output_type": "execute_result"
    }
   ],
   "source": [
    "find_similarities(sample_3.split(\". \"))"
   ]
  },
  {
   "cell_type": "markdown",
   "metadata": {},
   "source": [
    "This function will call upon the find_similarities() function and will then arrange the sentences in the proper order."
   ]
  },
  {
   "cell_type": "code",
   "execution_count": 11,
   "metadata": {},
   "outputs": [],
   "source": [
    "def build_summary(text):\n",
    "    #find sentences to extract for summary\n",
    "    sents_for_sum = find_similarities(text.split(\". \"))\n",
    "    #sort the sentences\n",
    "    sort = sorted(sents_for_sum)\n",
    "    #display which sentences have been selected\n",
    "    print(sort)\n",
    "    \n",
    "    sent_list = sent_tokenize(text)\n",
    "    #print number of sentences in full article\n",
    "    print(len(sent_list))\n",
    "    \n",
    "    \n",
    "    #extract the selected sentences from the original text\n",
    "    sents = []\n",
    "    for i in sort:\n",
    "        sents.append(sent_list[i].replace('\\n', ''))\n",
    "    \n",
    "    #join sentences together for final output\n",
    "    summary = ' '.join(sents)\n",
    "    return summary"
   ]
  },
  {
   "cell_type": "code",
   "execution_count": 61,
   "metadata": {},
   "outputs": [],
   "source": [
    "sample_3 = \"\"\"WASHINGTON, April 19, 2018—Financial inclusion is on the rise globally, accelerated by mobile phones and the internet, but gains have been uneven across countries. A new World Bank report on the use of financial services also finds that men remain more likely than women to have an account.\n",
    "\n",
    "Globally, 69 percent of adults – 3.8 billion people – now have an account at a bank or mobile money provider, a crucial step in escaping poverty.  This is up from 62 percent in 2014 and just 51 percent in 2011. From 2014 to 2017, 515 million adults obtained an account, and 1.2 billion have done so since 2011, according to the Global Findex database. While in some economies account ownership has surged, progress has been slower elsewhere, often held back by large disparities between men and women and between the rich and poor. The gap between men and women in developing economies remains unchanged since 2011, at 9 percentage points.\n",
    "\n",
    "The Global Findex, a wide-ranging data set on how people in 144 economies use financial services, was produced by the World Bank with funding from the Bill & Melinda Gates Foundation and in collaboration with Gallup, Inc.\n",
    "\n",
    "“In the past few years, we have seen great strides around the world in connecting people to formal financial services,” World Bank Group President Jim Yong Kim said. “Financial inclusion allows people to save for family needs, borrow to support a business, or build a cushion against an emergency. Having access to financial services is a critical step towards reducing both poverty and inequality, and new data on mobile phone ownership and internet access show unprecedented opportunities to use technology to achieve universal financial inclusion.”\n",
    "\n",
    "Download The Global Findex Database 2017: Measuring Financial Inclusion and the Fintech Revolution\n",
    "\n",
    "There has been a significant increase in the use of mobile phones and the internet to conduct financial transactions. Between 2014 and 2017, this has contributed to a rise in the share of account owners sending or receiving payments digitally from 67 percent to 76 percent globally, and in the developing world from 57 percent to 70 percent.\n",
    "\n",
    " “The Global Findex shows great progress for financial access--and also great opportunities for policymakers and the private sector to increase usage and to expand inclusion among women, farmers and the poor,” H.M. Queen Máxima of the Netherlands, the United Nations Secretary-General’s Special Advocate for Inclusive Finance for Development, said. “Digital financial services were the key to our recent progress and will continue to be essential as we seek to achieve universal financial inclusion.”\n",
    "\n",
    "Globally, 1.7 billion adults remain unbanked, yet two-thirds of them own a mobile phone that could help them access financial services. Digital technology could take advantage of existing cash transactions to bring people into the financial system, the report finds. For example, paying government wages, pensions, and social benefits directly into accounts could bring formal financial services to up to 100 million more adults globally, including 95 million in developing economies. There are other opportunities to increase account ownership and use through digital payments: more than 200 million unbanked adults who work in the private sector are paid in cash only, as are more than 200 million who receive agricultural payments.\n",
    "\n",
    "“We already know a lot about how to make sure women have equal access to financial services that can change their lives,” Melinda Gates, Co-Chair of the Bill & Melinda Gates Foundation, said. “When the government deposits social welfare payments or other subsidies directly into women’s digital bank accounts, the impact is amazing. Women gain decision-making power in their homes, and with more financial tools at their disposal they invest in their families’ prosperity and help drive broad economic growth.”\n",
    "\n",
    "This edition of the Global Findex database includes updated indicators on access to and use of formal and informal financial services.  It adds data on the use of financial technology, including mobile phones and the internet to conduct financial transactions, and is based on over 150,000 interviews around the world. The database has been published every three years since 2011.\n",
    "\n",
    "“The Global Findex database has become a mainstay of global efforts to promote financial inclusion,” World Bank Development Research Group Director Asli Demirgüç-Kunt said. “The data offer a wealth of information for development practitioners, policymakers and scholars, and are helping track progress toward the World Bank Group goal of Universal Financial Access by 2020 and the United Nations Sustainable Development Goals.”\n",
    "\n",
    "Regional Overviews\n",
    "\n",
    "In Sub-Saharan Africa, mobile money drove financial inclusion. While the share of adults with a financial institution account remained flat, the share with a mobile money account almost doubled, to 21 percent. Since 2014, mobile money accounts have spread from East Africa to West Africa and beyond. The region is home to all eight economies where 20 percent or more of adults use only a mobile money account: Burkina Faso, Côte d'Ivoire, Gabon, Kenya, Senegal, Tanzania, Uganda, and Zimbabwe. Opportunities abound to increase account ownership: up to 95 million unbanked adults in the region receive cash payments for agricultural products, and roughly 65 million save using semiformal methods.\n",
    "\n",
    "In East Asia and the Pacific, the use of digital financial transactions grew even as account ownership stagnated. Today, 71 percent of adults have an account, little changed from 2014. An exception is Indonesia, where the share with an account rose by 13 percentage points to 49 percent. Gender inequality is low: men and women are equally likely to have an account in Cambodia, Indonesia, Myanmar, and Vietnam. Digital financial transactions have accelerated especially in China, where the share of account owners using the internet to pay bills or buy things more than doubled—to 57 percent. Digital technology could be leveraged to further increase account use: 405 million account owners in the region pay utility bills in cash, though 95 percent of them have a mobile phone.\n",
    "\n",
    "In Europe and Central Asia, account ownership rose from 58 percent of adults in 2014 to 65 percent in 2017. Digital government payments of wages, pensions, and social benefits helped drive that increase. Among those with an account, 17 percent opened their first one to receive government payments. The share of adults making or receiving digital payments jumped by 14 percentage points to 60 percent. Digitizing all public pension payments could reduce the number of unbanked adults by up to 20 million.\n",
    "\n",
    "In Latin America and the Caribbean, wide access to digital technology could enable rapid growth in financial technology use: 55 percent of adults own a mobile phone and have access to the internet, 15 percentage points more than the developing world average. Since 2014, the share of adults making or receiving digital payments has risen by about 8 percentage points or more in such economies as Bolivia, Brazil, Colombia, Haiti, and Peru. About 20 percent adults with an account use mobile or the internet to make a transaction through an account in Argentina, Brazil, and Costa Rica. By digitizing cash wage payments, businesses could expand account ownership to up to 30 million unbanked adults—almost 90 percent of whom have a mobile phone. \n",
    "\n",
    "In the Middle East and North Africa, opportunities to increase financial inclusion are particularly strong among women. Today 52 percent of men but only 35 percent of women have an account, the largest gender gap of any region. Relatively high mobile phone ownership offers an avenue for expanding financial inclusion: among the unbanked, 86 percent of men and 75 percent of women have a mobile phone. Up to 20 million unbanked adults in the region send or receive domestic remittances using cash or an over-the-counter service, including 7 million in the Arab Republic of Egypt.\n",
    "\n",
    "In South Asia, the share of adults with an account rose by 23 percentage points, to 70 percent. Progress was driven by India, where a government policy to increase financial inclusion through biometric identification pushed the share with an account up to 80 percent, with big gains among women and poorer adults. Excluding India, regional account ownership still rose by 12 percentage points—but men often benefited more than women. In Bangladesh, the share with an account rose by 10 percentage points among women while nearly doubling among men. Regionwide, digitizing payments for agricultural products could reduce the number of unbanked adults by roughly 40 million.\n",
    "\n",
    " \"\"\""
   ]
  },
  {
   "cell_type": "code",
   "execution_count": 12,
   "metadata": {},
   "outputs": [
    {
     "data": {
      "text/plain": [
       "['  Bambu is a leading global provider of robo-advisory technology for businesses of every size and industry, from finance to commercial or even new disruptors, transforming the digital wealth space',\n",
       " '   Founded in 2016 by industry experts Ned Phillips, Luke Janssen and Aki Ranin, Bambu is situated in Singapore with subsidiaries in Hong Kong, Malaysia and the United Kingdom, as well as representatives in Africa, Europe and America.\\nWe are Insurify - one of the fastest growing MIT FinTech start-ups that is disrupting the $600B Insurance Industry',\n",
       " 'Led by veterans from Kayak and TripAdvisor, we are using leading technologies to build an award-winning platform',\n",
       " \"Insurify has been awarded: -One of 17 Startups to Watch in 2017 (Bostinno) -The 2016 Insurance Disruptor of the Year (ACORD - The Insurance Standards Organization) -The Best Insurance Website of 2016 (WebAwards)\\n8 Securities is Asia's first robo-advisor and free stock trading service\",\n",
       " \" They're blowing the world of investing wide open...and everyone is invited\",\n",
       " 'They are licensed in Hong Kong under the Securities & Futures Commission and in Japan under the Financial Services Agency',\n",
       " 'Their products and services are available in English, Chinese and Japanese.\\nFinizens is a wealth management company specializing in passive investments, offering a 100% digital alternative to traditional financial institutions consisting in a robo advisor platform which enable clients to invest in a more profitable and efficient fashion through globally diversified, low-cost index fund portfolios, using the best instituional share class funds from Vanguard and Amundi',\n",
       " ' Since launch Finizens has consolidated as an international reference in the wealth management realm, boasting to be the automated investment management company with the most comprehensive product offering in Europe, as well as the leading robo-advisor in Spain',\n",
       " 'In 2017, carrying out the first alliance in Spain between a bank and an investment FinTech firm, with EVO Banco distributing directly to its client base Finizens services',\n",
       " 'Secondly, Finizens developed the first commercial partnership in Spain between a robo-advisor  and an insurance company, Caser Seguros',\n",
       " 'The team of the company is formed by renowned professionals with extensive experience both in the domain of finance and investment management as well as in the digital economy, with a history of success and international reach.\\nStockspot is Australia‚Äôs first online, automated investment adviser and fund manager (robo-advisor)',\n",
       " 'Our aim is to make professional wealth management accessible to more Australians',\n",
       " 'We recognise that:  - The high fees charged by traditional investment options are completely unnecessary and eating away at investment returns',\n",
       " ' - Many Australians are unable to access a professionally managed portfolio due to the significant account minimums',\n",
       " ' - Those who are trying to do it themselves are usually missing out on the returns and diversification benefits of owning other asset classes like bonds and international shares',\n",
       " 'We‚Äôre helping Australians manage their money smarter by using our simple, transparent online investment service with low fees.\\nPritle (now Binck Forward) is an online wealth manager that allows its users to easily set and track goals, such as their retirement, a child‚Äôs education, or a trip around the world, within a specified timeframe',\n",
       " 'It enables clients to define an individualized client profile on the basis of which a customized portfolio of funds is created from asset managers, such as BlackRock, Vanguard, and StateStreet',\n",
       " 'The Pritle initiative was initiated in February 2013 by banker Thomas Bunnik',\n",
       " 'In 2014 it established its first holding company based in Amsterdam, The Netherlands',\n",
       " 'Pritle was acquired by BinckBank NV in April 2017.\\n MarketsFlow describes itself as a sophisticated, award-winning and innovative machine learning and AI-based intelligent robo advisor and digital wealth management platform.\\nInbestMe is a highly personalized and independent automated portfolio manager also known as robo advisor',\n",
       " 'You can register in  few minutes through their website',\n",
       " ' You can customize your account and choose between different portfolio plans, risk profiles and multiple financial objectives',\n",
       " 'Finanbest was founded on 2017 and is headquartered in Madrid, Spain.\\nAn Israeli award-winning Fintech startup that developed a financial marketplace and Robo-Advisor that revolutionizes the outdated retirement, insurance, and loans distribution channels by providing a custom user experience in order to democratize the way people manage their long-term financing',\n",
       " 'A marketplace & financial Robo-Advisor based on an advanced data-driven platform which uses a unique combination of sharp algorithm, data analytics, and machine learning to provide objective & personal financial services in a secured & transparent way',\n",
       " 'Robin Hood Pro created Robin',\n",
       " 'We offer services in the form of a Robo-advisor or human advisors according to the needs of each individual user, for insurance, loans, and retirement',\n",
       " 'After you‚Äôve selected your plan, Robin helps you to stay on track each step of the way.\\nAVA is an investment Robo-Advisor with Artificial Intelligence technology to help investors increase their investment return with the ease of use',\n",
       " ' Trustworthy, Transparency and Sustainable Development are core beliefs of our research to improve our goal-based algorithm',\n",
       " 'Therefore we integrate Fundamental Analysis, Technical Analysis, Quantitative Analysis, Macroeconomics, Fund Flow, Policy and Triggering Event altogether to analyse and execute in a millisecond to protect your money and maximize return',\n",
       " '- @user creates a #GroupGoal and invites his friends  - they invest together towards the #GroupGoal without sharing money - each #GroupGoal member gets his own advice to reach the goal  - investments are done automatically in portfolios based on risk level  - #GroupGoals can be very specific, with a specific target amount and a target date such as #ColoradoTrip2018 or very broad interest leaning like #ModernTechnology.\\nClipper Advisor is the first Robo-Advisor in China, bringing the Robo-Advisor innovation to the affluent Chinese investors everywhere.\\nBrains is a lifestyle-centered robo-advisor targeted toward the XY generations.\\nAs leading German robo advisor vaamo is dedicated to providing private individuals with an easy and intuitive access to capital markets in order to enable everyone to invest their money profitably and at minimum cost',\n",
       " 'At the same time we provide direct access to an investment concept that follows Nobel prize winning scientific research and enables customers to invest in broadly diversified investment portfolios based on low-cost passive investment strategies ‚Äì and all that without minimum term or investment and at one low all-in fee.\\nSmartly is a Singapore based financial technology company building a new-generation robo-advisor platform',\n",
       " \"Visit us at www.smartly.sg\\nIn a world of hidden charges, false promises and confusing sales talk, Clearfunds' simple belief is that transparency is profitable for our customers and for us\",\n",
       " 'At Clearfunds, we use powerful science and data analysis to turn these basic principles into a profitable reality for both, our customers and us.\\nTrue Wealth is the Swiss pioneer for digital wealth management',\n",
       " 'Within its B2C franchise, the company services a rapidly growing base of Swiss clients as a robo advisor',\n",
       " 'The company has two SaaS installations live with two banks in Switzerland, more projects are ongoing including with international tier 1 banks.\\n\\n\\nFount Inc',\n",
       " 'Is an asset management Robo-Advisor startup founded in 2015',\n",
       " 'Their investing algorithm based on BigData Technology helps you plan for every event of your life',\n",
       " ' They always have up-to-date information and know how well insured they are',\n",
       " ' Brokers and insurers regain time to focus on their advice, know their customers, and be compliant with a.o',\n",
       " 'GDPR, IDD and MiFID.\\nPat Garrett and Brian Watson founded Six Park in 2014 while working together at their investment management firm in Melbourne, Australia',\n",
       " 'Pat and Brian met in the mid-1990s while Brian was managing the global private equity and venture capital investment unit of JP Morgan (New York), and have been working together in Melbourne since 2001',\n",
       " \"They decided they could no longer ignore a major problem in Australia's investment management industry ‚Äì namely, that it was difficult, confusing, expensive and frustrating for most Australian investors to get professional, low-cost investment advice\",\n",
       " \"Pat and Brian met in the mid 1990's while Brian was managing the global private equity and venture capital investment unit of JP Morgan (New York), and have been working together in Melbourne, Australia since 2001\",\n",
       " 'In June 2014, Pat and Brian started building a better solution for Australian investors ‚Äì a trustworthy, professionally managed, low-cost, and highly accessible investment guidance service that is not aligned with a financial institution',\n",
       " \"Six Park is now a team of seven experts, including a world-class Advisory Board, with 100+ years of experience in investment management and financial services, at organisations of the quality of JP Morgan and the Australian Government's Future Fund\",\n",
       " 'Six Park launched in April 2016 and has grown significantly from its initial early-adopter client base',\n",
       " 'Each client has a portfolio of high-quality ASX-listed Exchange Traded Funds (ETFs) developed to match their personal risk profile and investment horizon',\n",
       " \"They believe that we've built the best investment service available to Australian investors, especially when considering the experience of the team, the low cost of the service and the overall user experience for their clients.\\nRoboAdvisors.com allows visitors to choose the best robo advisor according to their unique requirements\",\n",
       " \"Spotalpha's algorithms help users identify : (a) which instruments to invest in (b) how much to allocate to each instrument, and (c) when to re-balance their portfolios We achieve all of the above using simple UI/UX\",\n",
       " 'Our entire stack is available to brokerages and banks to launch a white-labelled robo-advisor.\\n\\nIncorporated in Hong Kong, Seasonalife is a startup founded by a team of actuaries focused on the Asia insurance market',\n",
       " 'Their mission is to become the \"private actuary\" to advisors and end-customers, and to make insurance smart and friendly again.\\n\\nAutomata provides simple and secure trading strategies for cryptocurrencies with a focus on risk management and capital protection.\\nTobi is a digital investment service for parents that makes it easy to grow their children\\'s long-term savings',\n",
       " 'eFin was founded by Charles Moscoe, Derek Capo, and Kristaps Ronka in 2015.\\nMoomoc ia a stock robo advisor based in Vienna, Austria.\\nFintech News Switzerland covers stories about the Fintech Ecosystem ‚Äì i.e',\n",
       " 'Mobile Payment, Personal Finance, Bitcoin, Blockchain, Robo Advisor and Lending - and Startups in Switzerland, UK and Europe',\n",
       " 'Fintechnews.ch also provides a bi-weekly newsletter with the most important information about the Fintech industry in UK & Europe',\n",
       " 'Specialties\\nMarketRiders, Inc',\n",
       " 'is an easy-to use online service that allows anyone to join the Exchange Traded Fund (ETF) revolution using strategies previously only available to elite investors and large endowments like Yale and Harvard',\n",
       " \" For $14.95 per month and 30 minutes each quarter, anyone can build and manage their own ETF portfolio and grow their money like the world's smartest investors\",\n",
       " ' Study after study proves, though, that it\\'s not possible to \"beat the market\" with any consistency, and that the most successful investors ride the market by allocating their assets across broad sections of the market and re-balancing when their asset allocations get out of whack',\n",
       " \" While mutual funds purport to do this sort of thing, they typically charge investors 2% or more off the top, whether they're making money or not, and have tax implications that are often unfriendly to investors\",\n",
       " ' Over time, these taxes and fees can erode 30-50% of an average portfolio! MarketRiders allows investors to take control of their own money in a three step process as follows:  1',\n",
       " 'User inputs data points such as age and risk tolerance, and based on those factors, MarketRiders suggests a portfolio based on ETFs (low-fee index funds typically associated with buckets of stocks or commodities)',\n",
       " ' User can customize the portfolio or copy a successful portfolio from another MarketRiders user',\n",
       " ' 3',\n",
       " \" If for example, a user wants to maintain 10% in coal, and coal makes a run such that 15% of the user's portfolio is now in coal, MarketRiders suggests the necessary trades to bring the portfolio back to the desired asset allocation.\\n\\nStock Shop is a leading fintech company that provides a toolbox of platforms that banks and financial institutions can rapidly white-label in order to provide financial education and meaningful services to new and existing clients\",\n",
       " 'Stock Shop was founded at the end of 2013 by Annabel Dallamore who while working at the Johannesburg Stock Exchange realised the pressing need for better, online, meaningful financial education',\n",
       " 'Stock Shop soon became the go-to for financial institutions looking to rapidly innovate and have industry leading digital platforms',\n",
       " 'All of the systems Stock Shop provides leverage the power of technology to make banking and financial services easy, quick, paperless and engaging for clients',\n",
       " 'Some of the platforms in the Stock Shop toolbox include: Online Academy - which provides trackable, gamified online learning Digital On-boarding & Digital KYC/FICA (for South Africa) Robo-advisor- that utilises the power of emotional and intelligent algorithms Personal Financial Management Tools- to give clients one view of their financial lives Content Aggregators- which allows a financial institutions to tailor the content their clients receive based on the products/services they utilise Our platforms create meaning for savers and investors and their financial lives',\n",
       " 'The team are also pushing ahead in the emotional and predictive algorithm space for applications of artificial intelligence in financial services.\\n\\n1wealthstreet is an intuitive Robo Advisor that delivers custom financial portfolios to its growing community of users.\\nArcus Capital has created a robo advisor with advanced investment algorithms that trawl the market and analyse them using big data',\n",
       " 'We help you meet your financial goals by using advanced technology while saving.\\n\\nTangram Solutions LLC is a fin-tech company',\n",
       " 'In March 2017 we launched Tangram WealthBook, a wealth management platform and hybrid-robo advisor for Independent Representatives',\n",
       " 'Net result:  Reps can use WealthBook to manage new annuity portfolios; they can also generate fee income from existing portfolios on their books that are currently unmanaged',\n",
       " 'Securities and Exchange Commission that uses technology and modern portfolio theory to help individuals around the world build and manage a low-cost ETF investment portfolio based on their own willingness and ability to take risk',\n",
       " 'At InvestPlex, we don‚Äôt use mutual funds when building investment portfolios because of their expensive sales and management fees; it is not a trading platform because we don‚Äôt believe in trading in and out of the market to create and maintain wealth; it is based on a subscription fee model ($8.99/Month) in order to avoid conflict of interest and it doesn‚Äôt offer custody services so any client can use the service and execute the portfolio suggestions with any bank or broker dealer that currently has custody of the client‚Äôs funds.\\nPropmatch.ch provided services find your new home with their platform quickly and easily.The first Robo Advisor for the real estate industry',\n",
       " 'propmatch is the simple solution for analyzing, valuing and brokering locations, investment properties and real estate in Switzerland.\\n\"Pre-Seed investment opportunity executive summary Wealthman Inc., a UK-based fintech company in the wealth management marketplace industry is pleased to present an equity stake acquisition opportunity on our Pre-Seed round',\n",
       " 'Market opportunity: Customer acquisition market volume in wealth management industry is expected in amount of  $12.8 bln',\n",
       " 'in 2018, and $19.4 bln',\n",
       " 'in 2019',\n",
       " 'Cost of robo-advisor customer acquisition (‚ÄúCAC‚Äù) is in the range of $600 to $1000 in US and $400 in UK',\n",
       " 'Changing the model of customer acquisition from advertising and branding service to SEO & branding marketplace can reduce the CAC 70% and more',\n",
       " 'Company solution: The web-based marketplace of wealth management services that connects investors with robo- or human advisers',\n",
       " ' Business model:  Company‚Äôs distribution channel is designed for small&mid-sized robo-advisors and wealth managers serving English-speaking mass-affluent customers',\n",
       " 'Company acquires customers at a reduced cost and resell them through marketplace at a market-average fixed price or at constant payment of 20% of wealth manager‚Äôs revenue annually',\n",
       " 'Sales strategy: Go-to-market strategy encompasses the following activity:  -\\tQuite period, 3Q 2018: Introduction $10k promotion budget for the first 30  human and digital advisors by direct offering or tightly targeted online promotion;  -\\tFirst sales, 4Q 2018: Investors attraction via CPA, SEO traffic, Email marketing and targeted Ad campaign',\n",
       " '-\\tExpansion 2Q 2019: Focus on branding, SEO and marketplace gamification to reduce cost of traffic and grow repeat sales',\n",
       " 'Sales target for 2019 is $1.1 mln',\n",
       " 'Competition: Potential competitors are AMX and Phitoken, although their solutions are still not production ready',\n",
       " 'Current competitors are traditional Big Data targeting services',\n",
       " 'Projections: Sales targets are $1.1 mln.in 2019, $7 mln.in 2020, $24 mln',\n",
       " 'in 2021',\n",
       " ' Key assumption is robo-advisor penetration will grow on 0.37% in 2019, 0.47% in 2020, 0.5% in 2021',\n",
       " 'Investment opportunity The project represents an outstanding opportunity to realize significant capital growth by 2019',\n",
       " 'Equity injection of $200.000 will provide a 10% participation rate in the expected Company valuation of $10mln at 2019',\n",
       " 'The shareholders are looking for co-investors that will participate in Pre-seed funding the marketing costs and software development.\"\\nProject Maia analyzes the entire spectrum of digital marketing options and creates data-driven marketing strategy that tells users what to do, when to do it and which platforms to use',\n",
       " 'We are a SaaS platform with pricing ranging from $35-$99, effectively targeting all the boutique agencies, freelance marketers, and small business marketers and owners that are desperate for technology that makes their marketing more effective.\\nThey are a 100% automated tactical asset manager, catering to individual investors like you',\n",
       " 'Their team‚Äôs background combines years of experience in institutional and alternative investing with expertise in predictive analytics, systems engineering, risk management, and regulatory compliance.\\nShanghai Shudan Information Technology LLC is a FinTech company, aiming to create an AI-based investment service eco-system']"
      ]
     },
     "execution_count": 12,
     "metadata": {},
     "output_type": "execute_result"
    }
   ],
   "source": [
    "def numCaps(text):\n",
    "    sentences = text.split(\". \")\n",
    "    relavent = []\n",
    "    for sen in sentences:\n",
    "        words = sen.split(\" \")\n",
    "        words = words[1:len(words)]\n",
    "        for word in words:\n",
    "            if (word.capitalize() == word):\n",
    "                relavent.append(sen)\n",
    "                break\n",
    "            \n",
    "    return(relavent)         \n",
    "a = numCaps(sample_3)\n",
    "a"
   ]
  },
  {
   "cell_type": "markdown",
   "metadata": {},
   "source": [
    "<h1>Examples"
   ]
  },
  {
   "cell_type": "code",
   "execution_count": 13,
   "metadata": {},
   "outputs": [
    {
     "name": "stdout",
     "output_type": "stream",
     "text": [
      "[13, 14, 28, 36, 38, 51, 53, 87, 120, 121, 134, 141, 161]\n",
      "196\n"
     ]
    },
    {
     "data": {
      "text/plain": [
       "\"They are licensed in Hong Kong under the Securities & Futures Commission and in Japan under the Financial Services Agency. Their products and services are available in English, Chinese and Japanese. Pritle (now Binck Forward) is an online wealth manager that allows its users to easily set and track goals, such as their retirement, a child‚Äôs education, or a trip around the world, within a specified timeframe. You can register in  few minutes through their website. You can customize your account and choose between different portfolio plans, risk profiles and multiple financial objectives. We automatically aggregate all your information into one place and use our algorithms to find the best plan for you. AVA is an investment Robo-Advisor with Artificial Intelligence technology to help investors increase their investment return with the ease of use. Their investing algorithm based on BigData Technology helps you plan for every event of your life. it offers an algorithm driven equity research platform designed to help people make intelligent investment decisions. The company offers services such as proprietary stock scoring system, results driven robo-advisor, second level hedge fund ai engine, and on demand ticker based research. User inputs data points such as age and risk tolerance, and based on those factors, MarketRiders suggests a portfolio based on ETFs (low-fee index funds typically associated with buckets of stocks or commodities). If for example, a user wants to maintain 10% in coal, and coal makes a run such that 15% of the user's portfolio is now in coal, MarketRiders suggests the necessary trades to bring the portfolio back to the desired asset allocation. InvestPlex‚Äôs online advisory services consist of advice on allocating your investments to meet your specific investment goals, tracking the performance of your portfolio, monitoring your portfolio, and alerting you when it needs to be rebalanced.\""
      ]
     },
     "execution_count": 13,
     "metadata": {},
     "output_type": "execute_result"
    }
   ],
   "source": [
    "build_summary(sample_3)"
   ]
  },
  {
   "cell_type": "code",
   "execution_count": 24,
   "metadata": {},
   "outputs": [
    {
     "name": "stdout",
     "output_type": "stream",
     "text": [
      "[0, 3]\n",
      "6\n"
     ]
    },
    {
     "data": {
      "text/plain": [
       "'President Donald Trump and his Polish counterpart Andrzej Duda were to announce higher US troop levels in Poland on Wednesday, with the main question being whether Washington will defy Russian objections to establish an American base in the NATO country. Located deep in what used to be Soviet-dominated eastern Europe, Poland is a member of NATO but has long wanted deeper US commitment.'"
      ]
     },
     "execution_count": 24,
     "metadata": {},
     "output_type": "execute_result"
    }
   ],
   "source": [
    "build_summary(sample_2)"
   ]
  },
  {
   "cell_type": "code",
   "execution_count": 52,
   "metadata": {
    "scrolled": true
   },
   "outputs": [
    {
     "ename": "NameError",
     "evalue": "name 'df' is not defined",
     "output_type": "error",
     "traceback": [
      "\u001b[0;31m---------------------------------------------------------------------------\u001b[0m",
      "\u001b[0;31mNameError\u001b[0m                                 Traceback (most recent call last)",
      "\u001b[0;32m<ipython-input-52-33b3deee3cd5>\u001b[0m in \u001b[0;36m<module>\u001b[0;34m()\u001b[0m\n\u001b[0;32m----> 1\u001b[0;31m \u001b[0mbuild_summary\u001b[0m\u001b[0;34m(\u001b[0m\u001b[0mdf\u001b[0m\u001b[0;34m.\u001b[0m\u001b[0mcontent\u001b[0m\u001b[0;34m[\u001b[0m\u001b[0;36m0\u001b[0m\u001b[0;34m]\u001b[0m\u001b[0;34m)\u001b[0m\u001b[0;34m\u001b[0m\u001b[0;34m\u001b[0m\u001b[0m\n\u001b[0m",
      "\u001b[0;31mNameError\u001b[0m: name 'df' is not defined"
     ]
    }
   ],
   "source": [
    "build_summary(df.content[0])"
   ]
  },
  {
   "cell_type": "code",
   "execution_count": 14,
   "metadata": {},
   "outputs": [
    {
     "name": "stdout",
     "output_type": "stream",
     "text": [
      "[2, 4, 15, 19, 20]\n",
      "25\n"
     ]
    },
    {
     "data": {
      "text/plain": [
       "'Current systems at land borders in Hong Kong perform facial recognition through rolled-down windows, simply to avoid the confounding effect of the glass.But over the past few months, a new system has emerged to solve that problem, developed at Oak Ridge National Laboratory at the request of US Customs and Border Patrol. If effective, it could pave the way for far more aggressive deployment of facial recognition at automotive crossings.“The camera they have developed can go into a vehicle through tint and glare.”The system arose out of an initiative called biometric exit, which mandates a face or fingerprint verification of every US visitor as they exit the country. Colvin Pitts, a senior architect at Lytro, says the camera’s depth-sensing capability could be particularly useful when cleaning up an image for facial recognition. That’s consistent with Manaher’s early assessment, which described the system as “very prototypey.” “There is very little practical way to opt out of this system.”As the technology develops, it could enable ambitious new facial recognition projects, particularly when combined with automatic license plate recognition or ALPR technology. Last Year, New York governor Andrew Cuomo announced a plan called New York Crossings that would install facial recognition cameras alongside ALPR systems at every bridge and tunnel leading into Manhattan, although experts say there are still significant logistical challenges to such a system.'"
      ]
     },
     "execution_count": 14,
     "metadata": {},
     "output_type": "execute_result"
    }
   ],
   "source": [
    "build_summary(df.content[15])"
   ]
  }
 ],
 "metadata": {
  "kernelspec": {
   "display_name": "Python 3",
   "language": "python",
   "name": "python3"
  },
  "language_info": {
   "codemirror_mode": {
    "name": "ipython",
    "version": 3
   },
   "file_extension": ".py",
   "mimetype": "text/x-python",
   "name": "python",
   "nbconvert_exporter": "python",
   "pygments_lexer": "ipython3",
   "version": "3.6.8"
  }
 },
 "nbformat": 4,
 "nbformat_minor": 2
}
